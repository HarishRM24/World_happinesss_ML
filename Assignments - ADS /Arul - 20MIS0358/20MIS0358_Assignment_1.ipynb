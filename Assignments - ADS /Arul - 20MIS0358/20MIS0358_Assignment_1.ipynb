{
  "nbformat": 4,
  "nbformat_minor": 0,
  "metadata": {
    "colab": {
      "provenance": []
    },
    "kernelspec": {
      "name": "python3",
      "display_name": "Python 3"
    },
    "language_info": {
      "name": "python"
    }
  },
  "cells": [
    {
      "cell_type": "code",
      "execution_count": null,
      "metadata": {
        "colab": {
          "base_uri": "https://localhost:8080/"
        },
        "id": "EjFG03IROFj2",
        "outputId": "4081dd1b-e64d-4016-a494-970a80b47957"
      },
      "outputs": [
        {
          "output_type": "stream",
          "name": "stdout",
          "text": [
            "Name: Arulmozhiarasu\n",
            "Age: 19\n"
          ]
        }
      ],
      "source": [
        "#question 1\n",
        "name = \"Arulmozhiarasu\"\n",
        "age = \"19\"\n",
        "\n",
        "print(\"Name:\", name)\n",
        "print(\"Age:\", age)\n"
      ]
    },
    {
      "cell_type": "code",
      "source": [
        "#question 2\n",
        "X = \"Datascience is used to extract meaningful insights.\"\n",
        "split_string = X.split()\n",
        "\n",
        "print(split_string)\n"
      ],
      "metadata": {
        "colab": {
          "base_uri": "https://localhost:8080/"
        },
        "id": "RKp_IPzjOr8j",
        "outputId": "e2551768-c499-4dc1-f663-ea8c35392beb"
      },
      "execution_count": null,
      "outputs": [
        {
          "output_type": "stream",
          "name": "stdout",
          "text": [
            "['Datascience', 'is', 'used', 'to', 'extract', 'meaningful', 'insights.']\n"
          ]
        }
      ]
    },
    {
      "cell_type": "code",
      "source": [
        "#question 3\n",
        "def mul_Num(a,b):\n",
        "    multiply=a*b;\n",
        "    return multiply\n",
        "    \n",
        "num1=25  \n",
        "num2=55\n",
        "print(mul_Num(num1,num2))"
      ],
      "metadata": {
        "colab": {
          "base_uri": "https://localhost:8080/"
        },
        "id": "jeMT_gISVezH",
        "outputId": "0a457f4e-f823-4d6a-c93b-530ea51737a4"
      },
      "execution_count": null,
      "outputs": [
        {
          "output_type": "stream",
          "name": "stdout",
          "text": [
            "50\n"
          ]
        }
      ]
    },
    {
      "cell_type": "code",
      "source": [
        "#question 4\n",
        "states_capitals = {\n",
        "    \"Tamilnadu\": \"Chennai\",\n",
        "    \"Karnataka\": \"Bengaluru\",\n",
        "    \"Kerala\": \"Thiruvanandhapuram\",\n",
        "    \"Andhra Pradesh\": \"Amaravati\",\n",
        "    \"Telangana\": \"Hyderabad\"\n",
        "}\n",
        "\n",
        "\n",
        "print(\"States:\")\n",
        "for state in states_capitals.keys():\n",
        "    print(state)\n",
        "\n",
        "\n",
        "print(\"\\nCapitals:\")\n",
        "for capital in states_capitals.values():\n",
        "    print(capital)\n"
      ],
      "metadata": {
        "colab": {
          "base_uri": "https://localhost:8080/"
        },
        "id": "7RRSeVDihV1O",
        "outputId": "8022ecc3-3d57-4e60-d705-7ecf5bcab107"
      },
      "execution_count": null,
      "outputs": [
        {
          "output_type": "stream",
          "name": "stdout",
          "text": [
            "States:\n",
            "Tamilnadu\n",
            "Karnataka\n",
            "Kerala\n",
            "Andhra Pradesh\n",
            "Telangana\n",
            "\n",
            "Capitals:\n",
            "Chennai\n",
            "Bengaluru\n",
            "Thiruvanandhapuram\n",
            "Amaravati\n",
            "Hyderabad\n"
          ]
        }
      ]
    },
    {
      "cell_type": "code",
      "source": [
        "#question 5\n",
        "numbers = list(range(1, 1001))\n",
        "print(numbers[:10])  \n"
      ],
      "metadata": {
        "colab": {
          "base_uri": "https://localhost:8080/"
        },
        "id": "s0mt4CiUlhMo",
        "outputId": "4d90c072-e38c-449f-f1d5-f065d68b3d73"
      },
      "execution_count": null,
      "outputs": [
        {
          "output_type": "stream",
          "name": "stdout",
          "text": [
            "[1, 2, 3, 4, 5, 6, 7, 8, 9, 10]\n"
          ]
        }
      ]
    },
    {
      "cell_type": "code",
      "source": [
        "#question 6 \n",
        "import numpy as np\n",
        "\n",
        "identity_matrix = np.eye(4)\n",
        "print(identity_matrix)\n"
      ],
      "metadata": {
        "colab": {
          "base_uri": "https://localhost:8080/"
        },
        "id": "Ye3PlPvem5-9",
        "outputId": "7e445773-6a3a-4245-962e-cce7794e5ebb"
      },
      "execution_count": null,
      "outputs": [
        {
          "output_type": "stream",
          "name": "stdout",
          "text": [
            "[[1. 0. 0. 0.]\n",
            " [0. 1. 0. 0.]\n",
            " [0. 0. 1. 0.]\n",
            " [0. 0. 0. 1.]]\n"
          ]
        }
      ]
    },
    {
      "cell_type": "code",
      "source": [
        "#question 7 \n",
        "import numpy as np\n",
        "matrix = np.arange(1, 10).reshape(3, 3)\n",
        "print(matrix)\n"
      ],
      "metadata": {
        "colab": {
          "base_uri": "https://localhost:8080/"
        },
        "id": "s5p9Y_ICnsh1",
        "outputId": "2e886832-1687-489a-cfba-056be1fd377a"
      },
      "execution_count": null,
      "outputs": [
        {
          "output_type": "stream",
          "name": "stdout",
          "text": [
            "[[1 2 3]\n",
            " [4 5 6]\n",
            " [7 8 9]]\n"
          ]
        }
      ]
    },
    {
      "cell_type": "code",
      "source": [
        "#question 8 \n",
        "import numpy as np\n",
        "array1 = np.array([[1, 2, 3], [4, 5, 6], [7, 8, 9]])\n",
        "array2 = np.array([[10, 11, 12], [13, 14, 15], [16, 17, 18]])\n",
        "result = array1 + array2\n",
        "print(result)\n",
        "\n"
      ],
      "metadata": {
        "colab": {
          "base_uri": "https://localhost:8080/"
        },
        "id": "QiBXH4h2pCkc",
        "outputId": "9c053400-021d-45ee-d60b-6d1974bc17c5"
      },
      "execution_count": null,
      "outputs": [
        {
          "output_type": "stream",
          "name": "stdout",
          "text": [
            "[[11 13 15]\n",
            " [17 19 21]\n",
            " [23 25 27]]\n"
          ]
        }
      ]
    },
    {
      "cell_type": "code",
      "source": [
        "#question 9 \n",
        "import numpy as np\n",
        "import datetime\n",
        "start_date = datetime.date(2023, 2, 1)\n",
        "end_date = datetime.date(2023, 3, 1)\n",
        "date_range = np.arange(start_date, end_date + datetime.timedelta(days=1), dtype='datetime64[D]')\n",
        "for date in date_range:\n",
        "    print(date)\n"
      ],
      "metadata": {
        "colab": {
          "base_uri": "https://localhost:8080/"
        },
        "id": "O_y5OXGspqrb",
        "outputId": "39a3502f-4fe0-4959-95dd-04a97bc91004"
      },
      "execution_count": null,
      "outputs": [
        {
          "output_type": "stream",
          "name": "stdout",
          "text": [
            "2023-02-01\n",
            "2023-02-02\n",
            "2023-02-03\n",
            "2023-02-04\n",
            "2023-02-05\n",
            "2023-02-06\n",
            "2023-02-07\n",
            "2023-02-08\n",
            "2023-02-09\n",
            "2023-02-10\n",
            "2023-02-11\n",
            "2023-02-12\n",
            "2023-02-13\n",
            "2023-02-14\n",
            "2023-02-15\n",
            "2023-02-16\n",
            "2023-02-17\n",
            "2023-02-18\n",
            "2023-02-19\n",
            "2023-02-20\n",
            "2023-02-21\n",
            "2023-02-22\n",
            "2023-02-23\n",
            "2023-02-24\n",
            "2023-02-25\n",
            "2023-02-26\n",
            "2023-02-27\n",
            "2023-02-28\n",
            "2023-03-01\n"
          ]
        }
      ]
    },
    {
      "cell_type": "code",
      "source": [
        "#question 10\n",
        "import pandas as pd\n",
        "dictionary = {'Brand': ['Maruti', 'Renault', 'Hyundai'], 'Sales': [250, 200, 240]}\n",
        "df = pd.DataFrame(dictionary)\n",
        "print(df)\n"
      ],
      "metadata": {
        "colab": {
          "base_uri": "https://localhost:8080/"
        },
        "id": "EnBMhjl2qeG1",
        "outputId": "ab8ca0a1-8839-464b-84d0-7e42b77e0517"
      },
      "execution_count": null,
      "outputs": [
        {
          "output_type": "stream",
          "name": "stdout",
          "text": [
            "     Brand  Sales\n",
            "0   Maruti    250\n",
            "1  Renault    200\n",
            "2  Hyundai    240\n"
          ]
        }
      ]
    }
  ]
}